{
 "cells": [
  {
   "cell_type": "markdown",
   "id": "2d656c91",
   "metadata": {},
   "source": [
    "### 1. What does an empty dictionary's code look like?"
   ]
  },
  {
   "cell_type": "code",
   "execution_count": 1,
   "id": "195e4b7c",
   "metadata": {},
   "outputs": [],
   "source": [
    "empty_dict={}"
   ]
  },
  {
   "cell_type": "markdown",
   "id": "aeac6c16",
   "metadata": {},
   "source": [
    "### 2. What is the value of a dictionary value with the key 'foo' and the value 42?"
   ]
  },
  {
   "cell_type": "code",
   "execution_count": 7,
   "id": "4d132606",
   "metadata": {},
   "outputs": [
    {
     "name": "stdout",
     "output_type": "stream",
     "text": [
      "42\n"
     ]
    }
   ],
   "source": [
    "d={'foo':42}\n",
    "value=d['foo']\n",
    "print(value)"
   ]
  },
  {
   "cell_type": "markdown",
   "id": "4ac06fe3",
   "metadata": {},
   "source": [
    "### 3. What is the most significant distinction between a dictionary and a list?"
   ]
  },
  {
   "cell_type": "markdown",
   "id": "4cd7b14d",
   "metadata": {},
   "source": [
    "while lists are ordered collections accessed by index, dictionaries are unordered collections accessed by unique keys. Dictionaries provide a convenient way to store and retrieve data using a key-value mapping, whereas lists are useful for maintaining ordered sequences of elements."
   ]
  },
  {
   "cell_type": "markdown",
   "id": "38e655b4",
   "metadata": {},
   "source": [
    "### 4. What happens if you try to access spam['foo'] if spam is {'bar': 100}?"
   ]
  },
  {
   "cell_type": "code",
   "execution_count": 4,
   "id": "d2b00c19",
   "metadata": {},
   "outputs": [],
   "source": [
    "spam={'bar':100}"
   ]
  },
  {
   "cell_type": "code",
   "execution_count": 5,
   "id": "5c87c4d6",
   "metadata": {},
   "outputs": [
    {
     "ename": "KeyError",
     "evalue": "'foo'",
     "output_type": "error",
     "traceback": [
      "\u001b[1;31m---------------------------------------------------------------------------\u001b[0m",
      "\u001b[1;31mKeyError\u001b[0m                                  Traceback (most recent call last)",
      "\u001b[1;32m~\\AppData\\Local\\Temp/ipykernel_15808/3999281786.py\u001b[0m in \u001b[0;36m<module>\u001b[1;34m\u001b[0m\n\u001b[1;32m----> 1\u001b[1;33m \u001b[0mspam\u001b[0m\u001b[1;33m[\u001b[0m\u001b[1;34m'foo'\u001b[0m\u001b[1;33m]\u001b[0m\u001b[1;33m\u001b[0m\u001b[1;33m\u001b[0m\u001b[0m\n\u001b[0m",
      "\u001b[1;31mKeyError\u001b[0m: 'foo'"
     ]
    }
   ],
   "source": [
    "spam['foo']"
   ]
  },
  {
   "cell_type": "markdown",
   "id": "42704a24",
   "metadata": {},
   "source": [
    "### 5. If a dictionary is stored in spam, what is the difference between the expressions 'cat' in spam and 'cat' in spam.keys()?"
   ]
  },
  {
   "cell_type": "code",
   "execution_count": 15,
   "id": "c82b5709",
   "metadata": {},
   "outputs": [
    {
     "data": {
      "text/plain": [
       "False"
      ]
     },
     "execution_count": 15,
     "metadata": {},
     "output_type": "execute_result"
    }
   ],
   "source": [
    "'cat'in spam"
   ]
  },
  {
   "cell_type": "code",
   "execution_count": 29,
   "id": "0db09947",
   "metadata": {},
   "outputs": [
    {
     "data": {
      "text/plain": [
       "False"
      ]
     },
     "execution_count": 29,
     "metadata": {},
     "output_type": "execute_result"
    }
   ],
   "source": [
    "'cat' in spam.keys()"
   ]
  },
  {
   "cell_type": "markdown",
   "id": "a6cbe336",
   "metadata": {},
   "source": [
    "\n",
    "The expressions 'cat' in spam and 'cat' in spam.keys() check for the presence of the key 'cat' in the dictionary stored in the variable spam. However, there is a subtle difference between these two expressions:\n",
    "\n",
    "'cat' in spam:\n",
    "\n",
    "This expression checks if the key 'cat' is present in the dictionary spam. It returns a boolean value (True or False) indicating whether the key is present or not. It directly checks the keys of the dictionary for the presence of the key 'cat'.\n",
    "\n",
    "'cat' in spam.keys():\n",
    "\n",
    "This expression also checks if the key 'cat' is present in the dictionary spam. However, instead of directly checking the keys, it explicitly calls the keys() method on the dictionary spam and then checks if 'cat' is present in the resulting list of keys.\n",
    "The keys() method returns a view object that provides a dynamic view of the dictionary's keys. In this case, the expression checks if 'cat' is present in that view."
   ]
  },
  {
   "cell_type": "markdown",
   "id": "c3c36c1c",
   "metadata": {},
   "source": [
    "### 6. If a dictionary is stored in spam, what is the difference between the expressions 'cat' in spam and 'cat' in spam.values()?"
   ]
  },
  {
   "cell_type": "code",
   "execution_count": 22,
   "id": "16f7efff",
   "metadata": {},
   "outputs": [
    {
     "data": {
      "text/plain": [
       "False"
      ]
     },
     "execution_count": 22,
     "metadata": {},
     "output_type": "execute_result"
    }
   ],
   "source": [
    "'cat' in spam"
   ]
  },
  {
   "cell_type": "code",
   "execution_count": 31,
   "id": "ccbc4e6c",
   "metadata": {},
   "outputs": [
    {
     "data": {
      "text/plain": [
       "False"
      ]
     },
     "execution_count": 31,
     "metadata": {},
     "output_type": "execute_result"
    }
   ],
   "source": [
    "'cat' in spam.values()"
   ]
  },
  {
   "cell_type": "markdown",
   "id": "345dc566",
   "metadata": {},
   "source": [
    "\n",
    "The expressions 'cat' in spam and 'cat' in spam.values() check for the presence of the value 'cat' in the dictionary stored in the variable spam. However, there is a difference between these two expressions:\n",
    "\n",
    "'cat' in spam:\n",
    "\n",
    "This expression checks if the value 'cat' is present as a key in the dictionary spam. It returns a boolean value (True or False) indicating whether the key is present or not. It checks the keys of the dictionary for the presence of the value 'cat'.\n",
    "\n",
    "'cat' in spam.values():\n",
    "\n",
    "This expression checks if the value 'cat' is present in the dictionary spam as one of the values. It returns a boolean value (True or False) indicating whether the value is present or not. It checks the values of the dictionary for the presence of the value 'cat'."
   ]
  },
  {
   "cell_type": "markdown",
   "id": "cf75d860",
   "metadata": {},
   "source": [
    "### 7. What is a shortcut for the following code?"
   ]
  },
  {
   "cell_type": "code",
   "execution_count": 33,
   "id": "cfaf079f",
   "metadata": {},
   "outputs": [
    {
     "ename": "IndentationError",
     "evalue": "expected an indented block (Temp/ipykernel_15808/1964065046.py, line 2)",
     "output_type": "error",
     "traceback": [
      "\u001b[1;36m  File \u001b[1;32m\"C:\\Users\\phsal\\AppData\\Local\\Temp/ipykernel_15808/1964065046.py\"\u001b[1;36m, line \u001b[1;32m2\u001b[0m\n\u001b[1;33m    spam['color'] = 'black'\u001b[0m\n\u001b[1;37m    ^\u001b[0m\n\u001b[1;31mIndentationError\u001b[0m\u001b[1;31m:\u001b[0m expected an indented block\n"
     ]
    }
   ],
   "source": [
    "if 'color' not in spam:\n",
    "spam['color'] = 'black'\n"
   ]
  },
  {
   "cell_type": "code",
   "execution_count": 34,
   "id": "838e912a",
   "metadata": {},
   "outputs": [
    {
     "data": {
      "text/plain": [
       "'black'"
      ]
     },
     "execution_count": 34,
     "metadata": {},
     "output_type": "execute_result"
    }
   ],
   "source": [
    "spam.setdefault('color', 'black')"
   ]
  },
  {
   "cell_type": "markdown",
   "id": "d54d3c53",
   "metadata": {},
   "source": [
    "### 8. How do you \"pretty print\" dictionary values using which module and function?"
   ]
  }
 ],
 "metadata": {
  "kernelspec": {
   "display_name": "Python 3 (ipykernel)",
   "language": "python",
   "name": "python3"
  },
  "language_info": {
   "codemirror_mode": {
    "name": "ipython",
    "version": 3
   },
   "file_extension": ".py",
   "mimetype": "text/x-python",
   "name": "python",
   "nbconvert_exporter": "python",
   "pygments_lexer": "ipython3",
   "version": "3.9.7"
  }
 },
 "nbformat": 4,
 "nbformat_minor": 5
}
